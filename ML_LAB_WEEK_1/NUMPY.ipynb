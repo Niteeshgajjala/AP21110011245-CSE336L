{
 "cells": [
  {
   "cell_type": "markdown",
   "id": "a0493966",
   "metadata": {},
   "source": [
    "Introduction to Numpy"
   ]
  },
  {
   "cell_type": "code",
   "execution_count": 1,
   "id": "8fd91009",
   "metadata": {},
   "outputs": [],
   "source": [
    "import numpy as np"
   ]
  },
  {
   "cell_type": "markdown",
   "id": "81914e9b",
   "metadata": {},
   "source": [
    "1.Write a NumPy program to multiply two given arrays of same size element-by-\n",
    "element"
   ]
  },
  {
   "cell_type": "code",
   "execution_count": 2,
   "id": "a193b097",
   "metadata": {},
   "outputs": [
    {
     "name": "stdout",
     "output_type": "stream",
     "text": [
      "[[ 3  4  3]\n",
      " [24 25 24]]\n"
     ]
    }
   ],
   "source": [
    "\n",
    "arr1=np.array([[1,2,3],[4,5,6]])\n",
    "arr2=np.array([[3,2,1],[6,5,4]])\n",
    "result=np.multiply(arr1,arr2)\n",
    "print(result)"
   ]
  },
  {
   "cell_type": "markdown",
   "id": "e5c375bd",
   "metadata": {},
   "source": [
    "2.Write a NumPy program to find the missing data in a given array."
   ]
  },
  {
   "cell_type": "code",
   "execution_count": 3,
   "id": "4c9d4ba4",
   "metadata": {},
   "outputs": [
    {
     "name": "stdout",
     "output_type": "stream",
     "text": [
      "The Missing data is: [[False False  True False]\n",
      " [False False False  True]\n",
      " [False  True  True  True]]\n"
     ]
    }
   ],
   "source": [
    "\n",
    "arr=np.array([[1,2,np.nan,4],[5,6,7,np.nan],[9,np.nan,np.nan,np.nan]])\n",
    "print(\"The Missing data is:\",np.isnan(arr))"
   ]
  },
  {
   "cell_type": "markdown",
   "id": "fad6592f",
   "metadata": {},
   "source": [
    "3.Write a NumPy program to test whether each element of a 1-D array is also present in\n",
    "a second array."
   ]
  },
  {
   "cell_type": "code",
   "execution_count": 4,
   "id": "ad08a406",
   "metadata": {},
   "outputs": [
    {
     "name": "stdout",
     "output_type": "stream",
     "text": [
      "RESULT: [False False  True  True]\n"
     ]
    }
   ],
   "source": [
    "\n",
    "array1 = np.array([1, 2, 3, 4])\n",
    "array2 = np.array([3, 4, 5, 6])\n",
    "\n",
    "result = np.isin(array1, array2)\n",
    "\n",
    "print(\"RESULT:\", result)"
   ]
  },
  {
   "cell_type": "markdown",
   "id": "7826142f",
   "metadata": {},
   "source": [
    "4.Write a NumPy program to save a NumPy array to a text file."
   ]
  },
  {
   "cell_type": "code",
   "execution_count": 5,
   "id": "21d9d33f",
   "metadata": {},
   "outputs": [
    {
     "name": "stdout",
     "output_type": "stream",
     "text": [
      "Array has been saved to 'numpy.txt'\n"
     ]
    }
   ],
   "source": [
    "\n",
    "arr = np.array([[1, 2, 3], [4, 5, 6], [7, 8, 9]])\n",
    "np.savetxt('numpy.txt',arr, fmt='%d', delimiter=',')\n",
    "print(\"Array has been saved to 'numpy.txt'\")"
   ]
  },
  {
   "cell_type": "markdown",
   "id": "a33355ef",
   "metadata": {},
   "source": [
    "5.Write a NumPy program to Create a 1-D array of 30 evenly spaced elements between\n",
    "2.5. and 6.5, inclusive."
   ]
  },
  {
   "cell_type": "code",
   "execution_count": 6,
   "id": "5d162926",
   "metadata": {},
   "outputs": [
    {
     "name": "stdout",
     "output_type": "stream",
     "text": [
      "[2.5        2.63793103 2.77586207 2.9137931  3.05172414 3.18965517\n",
      " 3.32758621 3.46551724 3.60344828 3.74137931 3.87931034 4.01724138\n",
      " 4.15517241 4.29310345 4.43103448 4.56896552 4.70689655 4.84482759\n",
      " 4.98275862 5.12068966 5.25862069 5.39655172 5.53448276 5.67241379\n",
      " 5.81034483 5.94827586 6.0862069  6.22413793 6.36206897 6.5       ]\n"
     ]
    }
   ],
   "source": [
    "\n",
    "x=np.linspace(2.5,6.5,30)\n",
    "print(x)"
   ]
  },
  {
   "cell_type": "code",
   "execution_count": null,
   "id": "e1725077",
   "metadata": {},
   "outputs": [],
   "source": []
  },
  {
   "cell_type": "code",
   "execution_count": null,
   "id": "40eac659",
   "metadata": {},
   "outputs": [],
   "source": []
  }
 ],
 "metadata": {
  "kernelspec": {
   "display_name": "Python 3 (ipykernel)",
   "language": "python",
   "name": "python3"
  },
  "language_info": {
   "codemirror_mode": {
    "name": "ipython",
    "version": 3
   },
   "file_extension": ".py",
   "mimetype": "text/x-python",
   "name": "python",
   "nbconvert_exporter": "python",
   "pygments_lexer": "ipython3",
   "version": "3.10.9"
  }
 },
 "nbformat": 4,
 "nbformat_minor": 5
}
